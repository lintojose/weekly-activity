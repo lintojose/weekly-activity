{
 "cells": [
  {
   "cell_type": "markdown",
   "metadata": {},
   "source": [
    "# Case study on Presentation of Data"
   ]
  },
  {
   "cell_type": "markdown",
   "metadata": {},
   "source": [
    "### 1. Read the dataset to the python environment."
   ]
  },
  {
   "cell_type": "code",
   "execution_count": 3,
   "metadata": {},
   "outputs": [
    {
     "data": {
      "text/html": [
       "<div>\n",
       "<style scoped>\n",
       "    .dataframe tbody tr th:only-of-type {\n",
       "        vertical-align: middle;\n",
       "    }\n",
       "\n",
       "    .dataframe tbody tr th {\n",
       "        vertical-align: top;\n",
       "    }\n",
       "\n",
       "    .dataframe thead th {\n",
       "        text-align: right;\n",
       "    }\n",
       "</style>\n",
       "<table border=\"1\" class=\"dataframe\">\n",
       "  <thead>\n",
       "    <tr style=\"text-align: right;\">\n",
       "      <th></th>\n",
       "      <th>Make</th>\n",
       "      <th>Model</th>\n",
       "      <th>Nickname</th>\n",
       "      <th>Car Gender</th>\n",
       "      <th>Buyer Gender</th>\n",
       "      <th>Buyer Age</th>\n",
       "      <th>Buzzword</th>\n",
       "      <th>Country</th>\n",
       "      <th>City</th>\n",
       "      <th>Dealer Latitude</th>\n",
       "      <th>Dealer Longitude</th>\n",
       "      <th>Color</th>\n",
       "      <th>New Car</th>\n",
       "      <th>Purchase Date</th>\n",
       "      <th>Sale Price</th>\n",
       "      <th>Discount</th>\n",
       "      <th>Resell Price</th>\n",
       "      <th>5-yr Depreciation</th>\n",
       "      <th>Top Speed</th>\n",
       "      <th>0-60 Time</th>\n",
       "    </tr>\n",
       "  </thead>\n",
       "  <tbody>\n",
       "    <tr>\n",
       "      <th>0</th>\n",
       "      <td>Suzuki</td>\n",
       "      <td>Vitara</td>\n",
       "      <td>Philippine</td>\n",
       "      <td>Female</td>\n",
       "      <td>Female</td>\n",
       "      <td>51</td>\n",
       "      <td>User-friendly</td>\n",
       "      <td>Belgium</td>\n",
       "      <td>Antwerpen</td>\n",
       "      <td>51.247239</td>\n",
       "      <td>4.440346</td>\n",
       "      <td>Yellow</td>\n",
       "      <td>False</td>\n",
       "      <td>19/07/2009</td>\n",
       "      <td>54806.14</td>\n",
       "      <td>0.2467</td>\n",
       "      <td>33858.32</td>\n",
       "      <td>0.13</td>\n",
       "      <td>200.9</td>\n",
       "      <td>11.5</td>\n",
       "    </tr>\n",
       "    <tr>\n",
       "      <th>1</th>\n",
       "      <td>Honda</td>\n",
       "      <td>S2000</td>\n",
       "      <td>Henrik</td>\n",
       "      <td>Male</td>\n",
       "      <td>Male</td>\n",
       "      <td>30</td>\n",
       "      <td>analyzing</td>\n",
       "      <td>China</td>\n",
       "      <td>Jinhu</td>\n",
       "      <td>33.025433</td>\n",
       "      <td>119.020584</td>\n",
       "      <td>Crimson</td>\n",
       "      <td>False</td>\n",
       "      <td>26/10/2015</td>\n",
       "      <td>51826.30</td>\n",
       "      <td>0.3147</td>\n",
       "      <td>2989.28</td>\n",
       "      <td>0.02</td>\n",
       "      <td>158.5</td>\n",
       "      <td>8.8</td>\n",
       "    </tr>\n",
       "    <tr>\n",
       "      <th>2</th>\n",
       "      <td>BMW</td>\n",
       "      <td>Z4</td>\n",
       "      <td>Lebbie</td>\n",
       "      <td>Male</td>\n",
       "      <td>Female</td>\n",
       "      <td>54</td>\n",
       "      <td>software</td>\n",
       "      <td>China</td>\n",
       "      <td>Gemo</td>\n",
       "      <td>30.916207</td>\n",
       "      <td>121.677640</td>\n",
       "      <td>Khaki</td>\n",
       "      <td>False</td>\n",
       "      <td>28/03/2010</td>\n",
       "      <td>82929.14</td>\n",
       "      <td>0.5414</td>\n",
       "      <td>35049.16</td>\n",
       "      <td>0.24</td>\n",
       "      <td>149.5</td>\n",
       "      <td>14.4</td>\n",
       "    </tr>\n",
       "    <tr>\n",
       "      <th>3</th>\n",
       "      <td>Toyota</td>\n",
       "      <td>Tacoma</td>\n",
       "      <td>Jefferey</td>\n",
       "      <td>Female</td>\n",
       "      <td>Male</td>\n",
       "      <td>68</td>\n",
       "      <td>monitoring</td>\n",
       "      <td>Portugal</td>\n",
       "      <td>Queluz de Baixo</td>\n",
       "      <td>38.745168</td>\n",
       "      <td>-9.267087</td>\n",
       "      <td>Puce</td>\n",
       "      <td>False</td>\n",
       "      <td>07/05/2008</td>\n",
       "      <td>56928.66</td>\n",
       "      <td>0.0850</td>\n",
       "      <td>8236.15</td>\n",
       "      <td>0.20</td>\n",
       "      <td>153.3</td>\n",
       "      <td>11.5</td>\n",
       "    </tr>\n",
       "    <tr>\n",
       "      <th>4</th>\n",
       "      <td>Ford</td>\n",
       "      <td>Festiva</td>\n",
       "      <td>Glendon</td>\n",
       "      <td>Female</td>\n",
       "      <td>Male</td>\n",
       "      <td>70</td>\n",
       "      <td>Sharable</td>\n",
       "      <td>Latvia</td>\n",
       "      <td>Jaunpils</td>\n",
       "      <td>56.729980</td>\n",
       "      <td>23.016588</td>\n",
       "      <td>Yellow</td>\n",
       "      <td>False</td>\n",
       "      <td>01/06/2008</td>\n",
       "      <td>77201.26</td>\n",
       "      <td>0.1642</td>\n",
       "      <td>32765.76</td>\n",
       "      <td>0.18</td>\n",
       "      <td>122.0</td>\n",
       "      <td>14.9</td>\n",
       "    </tr>\n",
       "  </tbody>\n",
       "</table>\n",
       "</div>"
      ],
      "text/plain": [
       "     Make    Model    Nickname Car Gender Buyer Gender  Buyer Age  \\\n",
       "0  Suzuki   Vitara  Philippine     Female       Female         51   \n",
       "1   Honda    S2000      Henrik       Male         Male         30   \n",
       "2     BMW       Z4      Lebbie       Male       Female         54   \n",
       "3  Toyota   Tacoma    Jefferey     Female         Male         68   \n",
       "4    Ford  Festiva     Glendon     Female         Male         70   \n",
       "\n",
       "        Buzzword   Country             City  Dealer Latitude  \\\n",
       "0  User-friendly   Belgium        Antwerpen        51.247239   \n",
       "1      analyzing     China            Jinhu        33.025433   \n",
       "2       software     China             Gemo        30.916207   \n",
       "3     monitoring  Portugal  Queluz de Baixo        38.745168   \n",
       "4       Sharable    Latvia         Jaunpils        56.729980   \n",
       "\n",
       "   Dealer Longitude    Color  New Car Purchase Date  Sale Price  Discount  \\\n",
       "0          4.440346   Yellow    False    19/07/2009    54806.14    0.2467   \n",
       "1        119.020584  Crimson    False    26/10/2015    51826.30    0.3147   \n",
       "2        121.677640    Khaki    False    28/03/2010    82929.14    0.5414   \n",
       "3         -9.267087     Puce    False    07/05/2008    56928.66    0.0850   \n",
       "4         23.016588   Yellow    False    01/06/2008    77201.26    0.1642   \n",
       "\n",
       "   Resell Price  5-yr Depreciation  Top Speed  0-60 Time  \n",
       "0      33858.32               0.13      200.9       11.5  \n",
       "1       2989.28               0.02      158.5        8.8  \n",
       "2      35049.16               0.24      149.5       14.4  \n",
       "3       8236.15               0.20      153.3       11.5  \n",
       "4      32765.76               0.18      122.0       14.9  "
      ]
     },
     "execution_count": 3,
     "metadata": {},
     "output_type": "execute_result"
    }
   ],
   "source": [
    "import pandas as pd\n",
    "c = pd.read_csv('cars_data).csv')\n",
    "c.head()"
   ]
  },
  {
   "cell_type": "markdown",
   "metadata": {},
   "source": [
    "### 2. Check for the null values present in the dataset."
   ]
  },
  {
   "cell_type": "code",
   "execution_count": 7,
   "metadata": {},
   "outputs": [
    {
     "data": {
      "text/plain": [
       "Make                 0\n",
       "Model                0\n",
       "Nickname             0\n",
       "Car Gender           0\n",
       "Buyer Gender         0\n",
       "Buyer Age            0\n",
       "Buzzword             0\n",
       "Country              0\n",
       "City                 0\n",
       "Dealer Latitude      0\n",
       "Dealer Longitude     0\n",
       "Color                0\n",
       "New Car              0\n",
       "Purchase Date        0\n",
       "Sale Price           0\n",
       "Discount             0\n",
       "Resell Price         0\n",
       "5-yr Depreciation    0\n",
       "Top Speed            0\n",
       "0-60 Time            0\n",
       "dtype: int64"
      ]
     },
     "execution_count": 7,
     "metadata": {},
     "output_type": "execute_result"
    }
   ],
   "source": [
    "c.isna().sum()"
   ]
  },
  {
   "cell_type": "markdown",
   "metadata": {},
   "source": [
    "* no column having null value"
   ]
  },
  {
   "cell_type": "markdown",
   "metadata": {},
   "source": [
    "### 3. Plot a bar graph of male vs female buyers participated in the sales."
   ]
  },
  {
   "cell_type": "code",
   "execution_count": 36,
   "metadata": {},
   "outputs": [
    {
     "data": {
      "text/plain": [
       "Female    5052\n",
       "Male      4948\n",
       "Name: Buyer Gender, dtype: int64"
      ]
     },
     "execution_count": 36,
     "metadata": {},
     "output_type": "execute_result"
    },
    {
     "data": {
      "image/png": "[encoded data removed]",
      "text/plain": [
       "<Figure size 432x288 with 1 Axes>"
      ]
     },
     "metadata": {
      "needs_background": "light"
     },
     "output_type": "display_data"
    }
   ],
   "source": [
    "import seaborn as sns\n",
    "sns.countplot(x='Buyer Gender',data=c)\n",
    "plt.title('Male vs Female buyers participated in the sales',size=20)\n",
    "c['Buyer Gender'].value_counts()"
   ]
  },
  {
   "cell_type": "markdown",
   "metadata": {},
   "source": [
    "#### Inference\n",
    "* 5052 were female and 4948 male buyers."
   ]
  },
  {
   "cell_type": "markdown",
   "metadata": {},
   "source": [
    "### 4. Find the top 5 cars based on their sales price."
   ]
  },
  {
   "cell_type": "code",
   "execution_count": 33,
   "metadata": {},
   "outputs": [
    {
     "data": {
      "text/html": [
       "<div>\n",
       "<style scoped>\n",
       "    .dataframe tbody tr th:only-of-type {\n",
       "        vertical-align: middle;\n",
       "    }\n",
       "\n",
       "    .dataframe tbody tr th {\n",
       "        vertical-align: top;\n",
       "    }\n",
       "\n",
       "    .dataframe thead th {\n",
       "        text-align: right;\n",
       "    }\n",
       "</style>\n",
       "<table border=\"1\" class=\"dataframe\">\n",
       "  <thead>\n",
       "    <tr style=\"text-align: right;\">\n",
       "      <th></th>\n",
       "      <th>Make</th>\n",
       "      <th>Model</th>\n",
       "    </tr>\n",
       "  </thead>\n",
       "  <tbody>\n",
       "    <tr>\n",
       "      <th>5984</th>\n",
       "      <td>Volkswagen</td>\n",
       "      <td>Jetta III</td>\n",
       "    </tr>\n",
       "    <tr>\n",
       "      <th>1270</th>\n",
       "      <td>Audi</td>\n",
       "      <td>A6</td>\n",
       "    </tr>\n",
       "    <tr>\n",
       "      <th>3460</th>\n",
       "      <td>Lexus</td>\n",
       "      <td>LX</td>\n",
       "    </tr>\n",
       "    <tr>\n",
       "      <th>9032</th>\n",
       "      <td>Mazda</td>\n",
       "      <td>MX-6</td>\n",
       "    </tr>\n",
       "    <tr>\n",
       "      <th>302</th>\n",
       "      <td>Lexus</td>\n",
       "      <td>ES</td>\n",
       "    </tr>\n",
       "  </tbody>\n",
       "</table>\n",
       "</div>"
      ],
      "text/plain": [
       "            Make      Model\n",
       "5984  Volkswagen  Jetta III\n",
       "1270        Audi         A6\n",
       "3460       Lexus         LX\n",
       "9032       Mazda       MX-6\n",
       "302        Lexus         ES"
      ]
     },
     "execution_count": 33,
     "metadata": {},
     "output_type": "execute_result"
    }
   ],
   "source": [
    "s = c.sort_values(['Sale Price'], ascending=False)\n",
    "s[['Make','Model']].head()"
   ]
  },
  {
   "cell_type": "markdown",
   "metadata": {},
   "source": [
    "### 5. Find the least 5 cars based on their Resell price."
   ]
  },
  {
   "cell_type": "code",
   "execution_count": 34,
   "metadata": {},
   "outputs": [
    {
     "data": {
      "text/html": [
       "<div>\n",
       "<style scoped>\n",
       "    .dataframe tbody tr th:only-of-type {\n",
       "        vertical-align: middle;\n",
       "    }\n",
       "\n",
       "    .dataframe tbody tr th {\n",
       "        vertical-align: top;\n",
       "    }\n",
       "\n",
       "    .dataframe thead th {\n",
       "        text-align: right;\n",
       "    }\n",
       "</style>\n",
       "<table border=\"1\" class=\"dataframe\">\n",
       "  <thead>\n",
       "    <tr style=\"text-align: right;\">\n",
       "      <th></th>\n",
       "      <th>Make</th>\n",
       "      <th>Model</th>\n",
       "    </tr>\n",
       "  </thead>\n",
       "  <tbody>\n",
       "    <tr>\n",
       "      <th>2446</th>\n",
       "      <td>Chevrolet</td>\n",
       "      <td>1500</td>\n",
       "    </tr>\n",
       "    <tr>\n",
       "      <th>4933</th>\n",
       "      <td>GMC</td>\n",
       "      <td>Savana 1500</td>\n",
       "    </tr>\n",
       "    <tr>\n",
       "      <th>566</th>\n",
       "      <td>Jaguar</td>\n",
       "      <td>XF</td>\n",
       "    </tr>\n",
       "    <tr>\n",
       "      <th>2538</th>\n",
       "      <td>Mitsubishi</td>\n",
       "      <td>3000GT</td>\n",
       "    </tr>\n",
       "    <tr>\n",
       "      <th>5869</th>\n",
       "      <td>Infiniti</td>\n",
       "      <td>G37</td>\n",
       "    </tr>\n",
       "  </tbody>\n",
       "</table>\n",
       "</div>"
      ],
      "text/plain": [
       "            Make        Model\n",
       "2446   Chevrolet         1500\n",
       "4933         GMC  Savana 1500\n",
       "566       Jaguar           XF\n",
       "2538  Mitsubishi       3000GT\n",
       "5869    Infiniti          G37"
      ]
     },
     "execution_count": 34,
     "metadata": {},
     "output_type": "execute_result"
    }
   ],
   "source": [
    "p = c.sort_values(['Resell Price'])\n",
    "p[['Make','Model']].head()"
   ]
  }
 ],
 "metadata": {
  "kernelspec": {
   "display_name": "Python 3",
   "language": "python",
   "name": "python3"
  },
  "language_info": {
   "codemirror_mode": {
    "name": "ipython",
    "version": 3
   },
   "file_extension": ".py",
   "mimetype": "text/x-python",
   "name": "python",
   "nbconvert_exporter": "python",
   "pygments_lexer": "ipython3",
   "version": "3.8.8"
  }
 },
 "nbformat": 4,
 "nbformat_minor": 4
}
